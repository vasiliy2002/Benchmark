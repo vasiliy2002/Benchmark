{
 "cells": [
  {
   "cell_type": "markdown",
   "id": "e97e6cd9",
   "metadata": {
    "papermill": {
     "duration": 0.014102,
     "end_time": "2024-05-03T19:09:28.102894",
     "exception": false,
     "start_time": "2024-05-03T19:09:28.088792",
     "status": "completed"
    },
    "tags": []
   },
   "source": [
    "## Импорт библиотек"
   ]
  },
  {
   "cell_type": "code",
   "execution_count": 1,
   "id": "bac06a0b",
   "metadata": {
    "_cell_guid": "b1076dfc-b9ad-4769-8c92-a6c4dae69d19",
    "_uuid": "8f2839f25d086af736a60e9eeb907d3b93b6e0e5",
    "execution": {
     "iopub.execute_input": "2024-05-03T19:09:28.132323Z",
     "iopub.status.busy": "2024-05-03T19:09:28.131459Z",
     "iopub.status.idle": "2024-05-03T19:09:46.795141Z",
     "shell.execute_reply": "2024-05-03T19:09:46.794372Z"
    },
    "papermill": {
     "duration": 18.681029,
     "end_time": "2024-05-03T19:09:46.797637",
     "exception": false,
     "start_time": "2024-05-03T19:09:28.116608",
     "status": "completed"
    },
    "tags": []
   },
   "outputs": [
    {
     "name": "stderr",
     "output_type": "stream",
     "text": [
      "2024-05-03 19:09:36.387831: E external/local_xla/xla/stream_executor/cuda/cuda_dnn.cc:9261] Unable to register cuDNN factory: Attempting to register factory for plugin cuDNN when one has already been registered\n",
      "2024-05-03 19:09:36.387930: E external/local_xla/xla/stream_executor/cuda/cuda_fft.cc:607] Unable to register cuFFT factory: Attempting to register factory for plugin cuFFT when one has already been registered\n",
      "2024-05-03 19:09:36.523479: E external/local_xla/xla/stream_executor/cuda/cuda_blas.cc:1515] Unable to register cuBLAS factory: Attempting to register factory for plugin cuBLAS when one has already been registered\n"
     ]
    }
   ],
   "source": [
    "import numpy as np \n",
    "import pandas as pd \n",
    "import cv2\n",
    "from scipy import ndimage\n",
    "from transformers import pipeline\n",
    "from PIL import Image\n",
    "import requests\n",
    "import os\n",
    "from tqdm import tqdm\n",
    "import torch\n",
    "from torch.utils.data import DataLoader\n",
    "from torch.utils.data import Dataset\n",
    "import shutil\n",
    "import albumentations as A\n",
    "from albumentations.pytorch import ToTensorV2\n",
    "import torch.optim as optim\n",
    "from torch import nn\n",
    "import csv\n"
   ]
  },
  {
   "cell_type": "markdown",
   "id": "70cd7456",
   "metadata": {
    "papermill": {
     "duration": 0.012789,
     "end_time": "2024-05-03T19:09:46.823880",
     "exception": false,
     "start_time": "2024-05-03T19:09:46.811091",
     "status": "completed"
    },
    "tags": []
   },
   "source": [
    "## Метрики"
   ]
  },
  {
   "cell_type": "code",
   "execution_count": 2,
   "id": "f5735e72",
   "metadata": {
    "execution": {
     "iopub.execute_input": "2024-05-03T19:09:46.852453Z",
     "iopub.status.busy": "2024-05-03T19:09:46.851560Z",
     "iopub.status.idle": "2024-05-03T19:09:46.931224Z",
     "shell.execute_reply": "2024-05-03T19:09:46.930499Z"
    },
    "papermill": {
     "duration": 0.095641,
     "end_time": "2024-05-03T19:09:46.933318",
     "exception": false,
     "start_time": "2024-05-03T19:09:46.837677",
     "status": "completed"
    },
    "tags": []
   },
   "outputs": [],
   "source": [
    "import scipy.signal as sps\n",
    "\n",
    "def evaluate_model(inference):\n",
    "    test_path = \"/kaggle/input/nyu-depth-v2/nyu_data/data/nyu2_test\"\n",
    "    cnt_test = len(os.listdir(test_path))\n",
    "    index = 0\n",
    "    metrics = list()\n",
    "    for filename in tqdm(os.listdir(test_path)):\n",
    "        if \"colors\" not in filename:\n",
    "            continue\n",
    "        image = Image.open(os.path.join(test_path, filename))\n",
    "        depth = inference(image)\n",
    "        \n",
    "        depth_filename = filename.replace(\"colors\", \"depth\")\n",
    "        image = Image.open(os.path.join(test_path, depth_filename))\n",
    "        ground_truth_depth = np.asarray(image)\n",
    "        \n",
    "        ground_truth_depth = 1 / ground_truth_depth\n",
    "        ground_truth_depth = ground_truth_depth / ground_truth_depth.max()\n",
    "        \n",
    "        metrics_values = get_metrics(depth, ground_truth_depth)\n",
    "        metrics.append(metrics_values)\n",
    "    \n",
    "    result = dict()\n",
    "    for k, v in metrics[0].items():\n",
    "        result[k] = sum([x[k] for x in metrics]) / cnt_test\n",
    "    return result\n",
    "\n",
    "\n",
    "def get_metrics(x, y, size=5):\n",
    "    x[y == 0] = 0\n",
    "    values = dict()\n",
    "    values['rmse'] = np.sum(rmse(x, y))\n",
    "    values['mae'] = np.sum(mae(x, y))\n",
    "    values['mre'] = np.sum(mre(x, y))\n",
    "    values['gradient'] = np.sum(gradient_metric(x, y))\n",
    "    values['rank'], values['census'] = rank_and_census(x, y, size)\n",
    "    values['rank'] = np.sum(values['rank'])\n",
    "    values['census'] = np.sum(values['census'])\n",
    "    \n",
    "    values['delta1'] = np.sum(get_delta(x, y, 1.25))\n",
    "    values['delta2'] = np.sum(get_delta(x, y, 1.25 ** 2))\n",
    "    values['delta3'] = np.sum(get_delta(x, y, 1.25 ** 3))\n",
    "\n",
    "    return values\n",
    "\n",
    "def get_delta(x, y, delta):\n",
    "    frac1, frac2 = x / (y + 1e-6), y / (x + 1e-6)\n",
    "    frac1, frac2 = frac1[..., np.newaxis], frac2[..., np.newaxis]\n",
    "    frac = np.concatenate((frac1, frac2), axis=-1)\n",
    "\n",
    "    delta_values = np.max(frac, axis=-1)\n",
    "    return np.sum((delta_values < delta), axis=(1, 2)) / (x.shape[1] * x.shape[2])\n",
    "\n",
    "def rmse(x, y):\n",
    "    return np.sqrt(np.sum((x - y) ** 2, axis=(1, 2)) / (x.shape[1] * x.shape[2]))\n",
    "\n",
    "def mae(x, y):\n",
    "    return np.sum(np.abs(x - y), axis=(1, 2)) / (x.shape[1] * x.shape[2])\n",
    "\n",
    "def mre(x, y):\n",
    "    return np.sum(np.abs(x - y) / (y + 1e-7), axis=(1, 2)) / (x.shape[1] * x.shape[2])\n",
    "\n",
    "def convolution(image, conv):\n",
    "    height, width = image.shape[0], image.shape[1]\n",
    "    padding_width = conv.shape[0] // 2\n",
    "    image = np.pad(image, padding_width, 'constant')\n",
    "    result = np.zeros((height, width))\n",
    "    for i in range(padding_width, height + padding_width):\n",
    "        for j in range(padding_width, width + padding_width):\n",
    "            result[i-padding_width][j-padding_width] = np.sum(image[(i - padding_width):(i + padding_width + 1), (j - padding_width):(j + padding_width + 1)] * conv)\n",
    "    return result\n",
    "\n",
    "def gradient_metric(x, y):\n",
    "    kernel1 = np.array([[\n",
    "        [1, 0, -1],\n",
    "        [2, 0, -2],\n",
    "        [1, 0, -1],\n",
    "    ]])\n",
    "    \n",
    "    kernel2 = np.array([[\n",
    "        [1, 2, 1],\n",
    "        [0, 0, 0],\n",
    "        [-1, -2, -1],\n",
    "    ]])\n",
    "    \n",
    "    x_deriv1, y_deriv1 = sps.fftconvolve(x, kernel1, mode='same'), sps.fftconvolve(y, kernel1, mode='same')\n",
    "    x_deriv2, y_deriv2 = sps.fftconvolve(x, kernel2, mode='same'), sps.fftconvolve(y, kernel2, mode='same')\n",
    "\n",
    "    return np.sum(np.abs(x_deriv1 - y_deriv1) + np.abs(x_deriv2 - y_deriv2), axis=(1, 2)) / (x.shape[1] * x.shape[2])\n",
    "\n",
    "def neighborhood(x, size=5):\n",
    "    indices = np.indices(x.shape[1:])\n",
    "    padding_width = size // 2\n",
    "    indices += padding_width\n",
    "    pad_x = np.pad(x, ((0,), (padding_width,), (padding_width,)), 'constant')\n",
    "    \n",
    "    index_maps = list()\n",
    "    for i in range(-padding_width, padding_width+1):\n",
    "        for j in range(-padding_width, padding_width+1):\n",
    "            index_map = np.zeros(indices.shape).astype(int)\n",
    "            index_map[0] = indices[0] + i\n",
    "            index_map[1] = indices[1] + j\n",
    "            index_maps.append(index_map)\n",
    "            \n",
    "    index_maps = np.array(index_maps)\n",
    "    return pad_x[:, index_maps[:, 0, :, :], index_maps[:, 1, :, :]]\n",
    "    \n",
    "def one_hot(x, size):\n",
    "    center_index = size ** 2 // 2\n",
    "    center = x[:, center_index]\n",
    "    center = center[:, np.newaxis]\n",
    "\n",
    "    encoding = (x < center).astype(int)\n",
    "    return np.delete(encoding, center_index, axis=1)\n",
    "    \n",
    "def rank_metric(en_x, en_y, size=5):\n",
    "    rank_x, rank_y = np.sum(en_x, axis=1), np.sum(en_y, axis=1)\n",
    "    return np.sum(np.abs(rank_x - rank_y), axis=(1, 2)) / (en_x.shape[2] * en_x.shape[3])\n",
    "\n",
    "def census_metric(en_x, en_y, size=5):\n",
    "    mask = (en_x != en_y).astype(int)\n",
    "    return np.sum(mask, axis=(1, 2, 3)) / (en_x.shape[2] * en_x.shape[3])\n",
    "\n",
    "def rank_and_census(x, y, size=5):\n",
    "    nx, ny = neighborhood(x, size), neighborhood(y, size)\n",
    "    en_x, en_y = one_hot(nx, size), one_hot(ny, size)\n",
    "    rank, census = rank_metric(en_x, en_y, size), census_metric(en_x, en_y, size)\n",
    "    return rank, census"
   ]
  },
  {
   "cell_type": "code",
   "execution_count": 3,
   "id": "6c9cfa10",
   "metadata": {
    "execution": {
     "iopub.execute_input": "2024-05-03T19:09:46.961608Z",
     "iopub.status.busy": "2024-05-03T19:09:46.960866Z",
     "iopub.status.idle": "2024-05-03T19:09:46.977709Z",
     "shell.execute_reply": "2024-05-03T19:09:46.976796Z"
    },
    "papermill": {
     "duration": 0.032864,
     "end_time": "2024-05-03T19:09:46.979799",
     "exception": false,
     "start_time": "2024-05-03T19:09:46.946935",
     "status": "completed"
    },
    "tags": []
   },
   "outputs": [
    {
     "data": {
      "text/plain": [
       "{'rmse': 2.3504,\n",
       " 'mae': 2.350400000000001,\n",
       " 'mre': 2.350399764960024,\n",
       " 'gradient': 3.572608000000003,\n",
       " 'rank': 0.0,\n",
       " 'census': 0.0,\n",
       " 'delta1': 0.0,\n",
       " 'delta2': 0.0,\n",
       " 'delta3': 4.0}"
      ]
     },
     "execution_count": 3,
     "metadata": {},
     "output_type": "execute_result"
    }
   ],
   "source": [
    "get_metrics(np.ones((4, 10, 10)) * 1.26 ** 2, np.ones((4, 10, 10)))"
   ]
  },
  {
   "cell_type": "code",
   "execution_count": 4,
   "id": "c0741cf2",
   "metadata": {
    "execution": {
     "iopub.execute_input": "2024-05-03T19:09:47.007531Z",
     "iopub.status.busy": "2024-05-03T19:09:47.006934Z",
     "iopub.status.idle": "2024-05-03T19:09:47.600730Z",
     "shell.execute_reply": "2024-05-03T19:09:47.599449Z"
    },
    "papermill": {
     "duration": 0.609422,
     "end_time": "2024-05-03T19:09:47.602410",
     "exception": true,
     "start_time": "2024-05-03T19:09:46.992988",
     "status": "failed"
    },
    "tags": []
   },
   "outputs": [
    {
     "ename": "NameError",
     "evalue": "name 'y' is not defined",
     "output_type": "error",
     "traceback": [
      "\u001b[0;31m---------------------------------------------------------------------------\u001b[0m",
      "\u001b[0;31mNameError\u001b[0m                                 Traceback (most recent call last)",
      "Cell \u001b[0;32mIn[4], line 1\u001b[0m\n\u001b[0;32m----> 1\u001b[0m \u001b[43my\u001b[49m\u001b[38;5;241m.\u001b[39mdtype\n",
      "\u001b[0;31mNameError\u001b[0m: name 'y' is not defined"
     ]
    }
   ],
   "source": [
    "y.dtype"
   ]
  },
  {
   "cell_type": "code",
   "execution_count": null,
   "id": "631ad3f3",
   "metadata": {
    "execution": {
     "iopub.execute_input": "2024-05-03T13:36:40.376030Z",
     "iopub.status.busy": "2024-05-03T13:36:40.375570Z",
     "iopub.status.idle": "2024-05-03T13:36:40.382378Z",
     "shell.execute_reply": "2024-05-03T13:36:40.381367Z",
     "shell.execute_reply.started": "2024-05-03T13:36:40.375999Z"
    },
    "papermill": {
     "duration": null,
     "end_time": null,
     "exception": null,
     "start_time": null,
     "status": "pending"
    },
    "tags": []
   },
   "outputs": [],
   "source": [
    "np.sum(x+y)"
   ]
  },
  {
   "cell_type": "code",
   "execution_count": null,
   "id": "952f55bd",
   "metadata": {
    "papermill": {
     "duration": null,
     "end_time": null,
     "exception": null,
     "start_time": null,
     "status": "pending"
    },
    "tags": []
   },
   "outputs": [],
   "source": []
  },
  {
   "cell_type": "code",
   "execution_count": null,
   "id": "4f3735a6",
   "metadata": {
    "papermill": {
     "duration": null,
     "end_time": null,
     "exception": null,
     "start_time": null,
     "status": "pending"
    },
    "tags": []
   },
   "outputs": [],
   "source": []
  },
  {
   "cell_type": "code",
   "execution_count": null,
   "id": "1d22e406",
   "metadata": {
    "papermill": {
     "duration": null,
     "end_time": null,
     "exception": null,
     "start_time": null,
     "status": "pending"
    },
    "tags": []
   },
   "outputs": [],
   "source": []
  },
  {
   "cell_type": "markdown",
   "id": "fdb7160c",
   "metadata": {
    "papermill": {
     "duration": null,
     "end_time": null,
     "exception": null,
     "start_time": null,
     "status": "pending"
    },
    "tags": []
   },
   "source": [
    "## Модели"
   ]
  },
  {
   "cell_type": "markdown",
   "id": "74832814",
   "metadata": {
    "papermill": {
     "duration": null,
     "end_time": null,
     "exception": null,
     "start_time": null,
     "status": "pending"
    },
    "tags": []
   },
   "source": [
    "### GLPN"
   ]
  },
  {
   "cell_type": "code",
   "execution_count": null,
   "id": "3e3d20c2",
   "metadata": {
    "execution": {
     "iopub.execute_input": "2024-05-03T17:50:16.706521Z",
     "iopub.status.busy": "2024-05-03T17:50:16.706141Z",
     "iopub.status.idle": "2024-05-03T17:50:20.068770Z",
     "shell.execute_reply": "2024-05-03T17:50:20.067988Z",
     "shell.execute_reply.started": "2024-05-03T17:50:16.706491Z"
    },
    "papermill": {
     "duration": null,
     "end_time": null,
     "exception": null,
     "start_time": null,
     "status": "pending"
    },
    "tags": []
   },
   "outputs": [],
   "source": [
    "from transformers import GLPNImageProcessor, GLPNForDepthEstimation\n",
    "import torch\n",
    "import numpy as np\n",
    "from PIL import Image\n",
    "import requests\n",
    "\n",
    "path = \"/kaggle/input/nyuv2-official-split-dataset/train/bathroom_0007/rgb_00001.png\"\n",
    "image = Image.open(path)\n",
    "\n",
    "processor = GLPNImageProcessor.from_pretrained(\"vinvino02/glpn-nyu\")\n",
    "model = GLPNForDepthEstimation.from_pretrained(\"vinvino02/glpn-nyu\")\n",
    "\n",
    "# prepare image for the model\n",
    "inputs = processor(images=image, return_tensors=\"pt\")\n",
    "\n",
    "\n",
    "outputs = model(**inputs)\n",
    "predicted_depth = outputs.predicted_depth.cpu().detach().numpy()\n",
    "\n"
   ]
  },
  {
   "cell_type": "code",
   "execution_count": null,
   "id": "56e670c0",
   "metadata": {
    "execution": {
     "iopub.execute_input": "2024-05-03T17:50:22.314196Z",
     "iopub.status.busy": "2024-05-03T17:50:22.313790Z",
     "iopub.status.idle": "2024-05-03T17:50:22.319542Z",
     "shell.execute_reply": "2024-05-03T17:50:22.318596Z",
     "shell.execute_reply.started": "2024-05-03T17:50:22.314165Z"
    },
    "papermill": {
     "duration": null,
     "end_time": null,
     "exception": null,
     "start_time": null,
     "status": "pending"
    },
    "tags": []
   },
   "outputs": [],
   "source": [
    "import cv2\n",
    "def image2depth(path):\n",
    "    depth = cv2.imread(path, cv2.IMREAD_UNCHANGED)\n",
    "    depth = depth.astype('float32')\n",
    "    depth /= (2**16 - 1)\n",
    "    depth *= 10.0\n",
    "    return depth"
   ]
  },
  {
   "cell_type": "code",
   "execution_count": null,
   "id": "95997895",
   "metadata": {
    "execution": {
     "iopub.execute_input": "2024-05-03T17:50:24.226831Z",
     "iopub.status.busy": "2024-05-03T17:50:24.226340Z",
     "iopub.status.idle": "2024-05-03T17:50:24.232712Z",
     "shell.execute_reply": "2024-05-03T17:50:24.231842Z",
     "shell.execute_reply.started": "2024-05-03T17:50:24.226779Z"
    },
    "papermill": {
     "duration": null,
     "end_time": null,
     "exception": null,
     "start_time": null,
     "status": "pending"
    },
    "tags": []
   },
   "outputs": [],
   "source": [
    "def glpn_cuda_inference(pathes, model, device='cuda'):\n",
    "    images = [Image.open(path) for path in pathes]\n",
    "    inputs = processor(images=images, return_tensors=\"pt\")\n",
    "    inputs = inputs.to(device)\n",
    "    \n",
    "    with torch.no_grad():\n",
    "        outputs = model(**inputs)\n",
    "        predicted_depth = outputs.predicted_depth\n",
    "    return predicted_depth\n"
   ]
  },
  {
   "cell_type": "code",
   "execution_count": null,
   "id": "8d17983e",
   "metadata": {
    "execution": {
     "iopub.execute_input": "2024-05-03T12:12:59.333005Z",
     "iopub.status.busy": "2024-05-03T12:12:59.332232Z",
     "iopub.status.idle": "2024-05-03T12:12:59.667929Z",
     "shell.execute_reply": "2024-05-03T12:12:59.666991Z",
     "shell.execute_reply.started": "2024-05-03T12:12:59.332973Z"
    },
    "papermill": {
     "duration": null,
     "end_time": null,
     "exception": null,
     "start_time": null,
     "status": "pending"
    },
    "tags": []
   },
   "outputs": [],
   "source": [
    "pred = glpn_cuda_inference([\"/kaggle/working/rgb_00766.png\"], model)\n",
    "plt.imshow(pred.cpu().numpy()[0])"
   ]
  },
  {
   "cell_type": "code",
   "execution_count": null,
   "id": "2c663800",
   "metadata": {
    "execution": {
     "iopub.execute_input": "2024-05-03T12:14:30.253664Z",
     "iopub.status.busy": "2024-05-03T12:14:30.252997Z",
     "iopub.status.idle": "2024-05-03T12:14:30.506315Z",
     "shell.execute_reply": "2024-05-03T12:14:30.505440Z",
     "shell.execute_reply.started": "2024-05-03T12:14:30.253632Z"
    },
    "papermill": {
     "duration": null,
     "end_time": null,
     "exception": null,
     "start_time": null,
     "status": "pending"
    },
    "tags": []
   },
   "outputs": [],
   "source": [
    "plt.imshow(np.asarray(Image.open(\"/kaggle/input/nyuv2-official-split-dataset/test/official/depth_00766.png\")))"
   ]
  },
  {
   "cell_type": "markdown",
   "id": "0b56b941",
   "metadata": {
    "papermill": {
     "duration": null,
     "end_time": null,
     "exception": null,
     "start_time": null,
     "status": "pending"
    },
    "tags": []
   },
   "source": [
    "## Оценка"
   ]
  },
  {
   "cell_type": "code",
   "execution_count": null,
   "id": "460da762",
   "metadata": {
    "execution": {
     "iopub.execute_input": "2024-05-03T17:50:27.371299Z",
     "iopub.status.busy": "2024-05-03T17:50:27.370927Z",
     "iopub.status.idle": "2024-05-03T17:50:27.400451Z",
     "shell.execute_reply": "2024-05-03T17:50:27.399608Z",
     "shell.execute_reply.started": "2024-05-03T17:50:27.371268Z"
    },
    "papermill": {
     "duration": null,
     "end_time": null,
     "exception": null,
     "start_time": null,
     "status": "pending"
    },
    "tags": []
   },
   "outputs": [],
   "source": [
    "DEVICE='cuda'\n",
    "from tqdm import tqdm\n",
    "from random import choice\n",
    "\n",
    "class CarvanaDataset(Dataset):\n",
    "    def __init__(self, dn):\n",
    "        self.test_root = \"/kaggle/input/nyuv2-official-split-dataset/test/official\"\n",
    "        self.out_root = \"/kaggle/working\"\n",
    "        self.dn = dn\n",
    "        self.init_path()\n",
    "\n",
    "\n",
    "    def image2depth(self, path):\n",
    "        depth = cv2.imread(path, cv2.IMREAD_UNCHANGED)\n",
    "        depth = depth.astype('float32')\n",
    "        depth /= (2**16 - 1)\n",
    "        depth *= 10.0\n",
    "        return depth\n",
    "\n",
    "    def init_path(self):\n",
    "        self.images = list()\n",
    "        for f in os.listdir(self.test_root):\n",
    "            if \"rgb\" in f:\n",
    "                self.images.append(f)\n",
    "                    \n",
    "    def __len__(self):\n",
    "        return len(self.images)\n",
    "        \n",
    "\n",
    "    def __getitem__(self, index):\n",
    "        path = os.path.join(self.test_root, self.images[index])\n",
    "        img_path = path\n",
    "        if self.dn:\n",
    "            new_path_filename = img_path.split(\"/\")[-1]\n",
    "            noise_img_path = os.path.join(self.out_root, new_path_filename)\n",
    "            make_noise(img_path, noise_img_path, self.dn)\n",
    "            img_path = noise_img_path\n",
    "        \n",
    "        depth_path = path.replace(\"rgb\", \"depth\")\n",
    "        depth = self.image2depth(depth_path)\n",
    "        \n",
    "        return  depth, img_path, depth_path\n",
    "\n",
    "def save_checkpoint(state, filename=\"my_checkpoint.pth.tar\"):\n",
    "    print(\"=> Saving checkpoint\")\n",
    "    torch.save(state, filename)\n",
    "\n",
    "def train_fn(loader, model, optimizer, loss_fn, scaler):\n",
    "    loop = tqdm(loader)\n",
    "\n",
    "    for batch_idx, (depth, img_path, depth_path) in enumerate(loop):\n",
    "        targets = depth.float().to(device=DEVICE)\n",
    "\n",
    "        # forward\n",
    "        with torch.cuda.amp.autocast():\n",
    "            predictions = depth_anything_cuda_inference(img_path, model)\n",
    "            loss = glpn_loss_fn(predictions, targets)\n",
    "            loss = torch.mean(loss)\n",
    "\n",
    "        # backward\n",
    "        optimizer.zero_grad()\n",
    "        scaler.scale(loss).backward()\n",
    "        scaler.step(optimizer)\n",
    "        scaler.update()\n",
    "\n",
    "        # update tqdm loop\n",
    "        loop.set_postfix(loss=loss.item())\n",
    "    return loss.item()\n",
    "\n",
    "def write_demo(preds, pathes, dir_root):\n",
    "    for pred, path in zip(preds, pathes):\n",
    "        path = os.path.join(dir_root, path.split(\"/\")[-1])\n",
    "        pred = pred * 255 / pred.max()\n",
    "        pred = pred.astype(np.uint8)\n",
    "        img = Image.fromarray(pred)\n",
    "        img.save(path)\n",
    "\n",
    "\n",
    "def check_acc(loader, model, dir_root, device=\"cuda\"):\n",
    "    num_correct = 0\n",
    "    num_pixels = 0\n",
    "    dice_score = 0\n",
    "    model.eval()\n",
    "    metrics = {}\n",
    "    with torch.no_grad():\n",
    "        for depth, img_path, depth_path in tqdm(loader):\n",
    "            \n",
    "            preds = glpn_cuda_inference(img_path, model)\n",
    "\n",
    "            preds = preds.cpu().detach().numpy()\n",
    "            write_demo(preds, img_path, dir_root)\n",
    "            y = depth.cpu().detach().numpy()\n",
    "\n",
    "            cur = get_metrics(preds, y)\n",
    "            for k, v in cur.items():\n",
    "                if k in metrics.keys():\n",
    "                    metrics[k].append(v)\n",
    "                else:\n",
    "                    metrics[k] = [v]\n",
    "    for k, v in metrics.items():\n",
    "        metrics[k] = sum(metrics[k]) / 654\n",
    "\n",
    "    model.train()\n",
    "    return metrics\n",
    "\n",
    "\n",
    "def get_loader(\n",
    "        batch_size,\n",
    "        dn,\n",
    "        num_workers=1,\n",
    "        pin_memory=True\n",
    "):\n",
    "    dataset = CarvanaDataset(\n",
    "        dn,\n",
    "    )\n",
    "\n",
    "    loader = DataLoader(\n",
    "        dataset,\n",
    "        batch_size=batch_size,\n",
    "        num_workers=num_workers,\n",
    "        pin_memory=pin_memory,\n",
    "        shuffle=True,\n",
    "    )\n",
    "\n",
    "    return loader\n",
    "\n",
    "\n",
    "def load_weights(model, weights_path):\n",
    "    \"\"\"\n",
    "    Загружает веса модели\n",
    "    \"\"\"\n",
    "    weights = torch.load(weights_path)\n",
    "    model.load_state_dict(weights['state_dict'])\n",
    "\n",
    "def get_device():\n",
    "    device = torch.device(\"cuda:0\" if torch.cuda.is_available() else \"cpu\")\n",
    "    return device\n",
    "\n",
    "def get_loaders(\n",
    "        batch_size,\n",
    "        transform_x,\n",
    "        transform_y,\n",
    "        num_workers=4,\n",
    "        pin_memory=True,\n",
    "):\n",
    "    train_loader = get_loader(batch_size, \"train\", transform_x, transform_y, num_workers,pin_memory)\n",
    "    val_loader = get_loader(batch_size, \"test\", transform_x, transform_y, num_workers,pin_memory)\n",
    "\n",
    "    return train_loader, val_loader\n",
    "\n",
    "\n",
    "def overlay_mask(image_dir_path, name, mask_true, mask_predict):\n",
    "\n",
    "    alpha = 0.7\n",
    "    mask_true, mask_predict = mask_true[0].cpu().numpy(), mask_predict[0].cpu().numpy()\n",
    "\n",
    "    height, width = mask_true.shape[0], mask_true.shape[1]\n",
    "    image = cv2.imread(os.path.join(image_dir_path, name))\n",
    "\n",
    "    image = cv2.resize(image, (width, height))\n",
    "    result = np.zeros((height, width * 2, 3))\n",
    "\n",
    "    result[:, :width, :] = image\n",
    "    result[:, width:, :] = image\n",
    "\n",
    "    result[:, :width, 1] = image[:, :, 1] * alpha + mask_true * (1 - alpha) * 255\n",
    "    result[:, width:, 1] = image[:, :, 1] * alpha + mask_predict * (1 - alpha) * 255\n",
    "\n",
    "    return result\n",
    "\n",
    "\n"
   ]
  },
  {
   "cell_type": "code",
   "execution_count": null,
   "id": "ed891481",
   "metadata": {
    "execution": {
     "iopub.execute_input": "2024-05-03T17:50:53.675475Z",
     "iopub.status.busy": "2024-05-03T17:50:53.675146Z",
     "iopub.status.idle": "2024-05-03T17:50:53.682831Z",
     "shell.execute_reply": "2024-05-03T17:50:53.681863Z",
     "shell.execute_reply.started": "2024-05-03T17:50:53.675451Z"
    },
    "papermill": {
     "duration": null,
     "end_time": null,
     "exception": null,
     "start_time": null,
     "status": "pending"
    },
    "tags": []
   },
   "outputs": [],
   "source": [
    "import os, shutil\n",
    "\n",
    "def eval_model(model, model_name, batch_size=4):\n",
    "    demo_root = \"/kaggle/working\"\n",
    "    model = model.to(\"cuda\")\n",
    "    all_metrics = list()\n",
    "\n",
    "    demo_dir = os.path.join(demo_root, model_name)\n",
    "    if os.path.exists(demo_dir):\n",
    "        shutil.rmtree(demo_dir)\n",
    "    os.mkdir(demo_dir)\n",
    "    for dn in range(0, 11):\n",
    "        print(\"Noise \" + str(dn) + \" processing...\")\n",
    "        loader = get_loader(batch_size, dn)\n",
    "\n",
    "        noise_dir = os.path.join(demo_dir, str(dn))\n",
    "        os.mkdir(noise_dir)\n",
    "        \n",
    "        metrics = check_acc(loader, model, noise_dir)\n",
    "        print(metrics)\n",
    "        all_metrics.append(metrics)\n",
    "    return all_metrics"
   ]
  },
  {
   "cell_type": "code",
   "execution_count": null,
   "id": "b97aca06",
   "metadata": {
    "execution": {
     "iopub.execute_input": "2024-05-03T17:25:07.657461Z",
     "iopub.status.busy": "2024-05-03T17:25:07.657076Z",
     "iopub.status.idle": "2024-05-03T17:25:07.664663Z",
     "shell.execute_reply": "2024-05-03T17:25:07.663575Z",
     "shell.execute_reply.started": "2024-05-03T17:25:07.657433Z"
    },
    "papermill": {
     "duration": null,
     "end_time": null,
     "exception": null,
     "start_time": null,
     "status": "pending"
    },
    "tags": []
   },
   "outputs": [],
   "source": []
  },
  {
   "cell_type": "code",
   "execution_count": null,
   "id": "41c5ad6a",
   "metadata": {
    "execution": {
     "iopub.execute_input": "2024-05-03T17:50:55.755867Z",
     "iopub.status.busy": "2024-05-03T17:50:55.755504Z",
     "iopub.status.idle": "2024-05-03T18:46:43.483094Z",
     "shell.execute_reply": "2024-05-03T18:46:43.481874Z",
     "shell.execute_reply.started": "2024-05-03T17:50:55.755841Z"
    },
    "papermill": {
     "duration": null,
     "end_time": null,
     "exception": null,
     "start_time": null,
     "status": "pending"
    },
    "tags": []
   },
   "outputs": [],
   "source": [
    "eval_model(model, \"GLPN\")"
   ]
  },
  {
   "cell_type": "code",
   "execution_count": null,
   "id": "ee4d07e9",
   "metadata": {
    "execution": {
     "iopub.execute_input": "2024-05-03T13:47:50.368605Z",
     "iopub.status.busy": "2024-05-03T13:47:50.368018Z",
     "iopub.status.idle": "2024-05-03T13:47:50.373264Z",
     "shell.execute_reply": "2024-05-03T13:47:50.372331Z",
     "shell.execute_reply.started": "2024-05-03T13:47:50.368572Z"
    },
    "papermill": {
     "duration": null,
     "end_time": null,
     "exception": null,
     "start_time": null,
     "status": "pending"
    },
    "tags": []
   },
   "outputs": [],
   "source": [
    "os.mkdir(\"/kaggle/working/GLPN\")"
   ]
  },
  {
   "cell_type": "code",
   "execution_count": null,
   "id": "80528387",
   "metadata": {
    "execution": {
     "iopub.execute_input": "2024-05-03T18:48:01.026946Z",
     "iopub.status.busy": "2024-05-03T18:48:01.026190Z",
     "iopub.status.idle": "2024-05-03T18:48:01.032975Z",
     "shell.execute_reply": "2024-05-03T18:48:01.032015Z",
     "shell.execute_reply.started": "2024-05-03T18:48:01.026906Z"
    },
    "papermill": {
     "duration": null,
     "end_time": null,
     "exception": null,
     "start_time": null,
     "status": "pending"
    },
    "tags": []
   },
   "outputs": [],
   "source": [
    "len(metrics)"
   ]
  },
  {
   "cell_type": "code",
   "execution_count": null,
   "id": "026a7aa9",
   "metadata": {
    "execution": {
     "iopub.execute_input": "2024-05-03T18:49:02.382350Z",
     "iopub.status.busy": "2024-05-03T18:49:02.381392Z",
     "iopub.status.idle": "2024-05-03T18:49:02.388401Z",
     "shell.execute_reply": "2024-05-03T18:49:02.387655Z",
     "shell.execute_reply.started": "2024-05-03T18:49:02.382314Z"
    },
    "papermill": {
     "duration": null,
     "end_time": null,
     "exception": null,
     "start_time": null,
     "status": "pending"
    },
    "tags": []
   },
   "outputs": [],
   "source": [
    "import json\n",
    "\n",
    "with open(\"/kaggle/working/GLPN/metrics.json\", \"w\") as f:\n",
    "    json.dump(metrics, f)"
   ]
  },
  {
   "cell_type": "code",
   "execution_count": null,
   "id": "3237ac00",
   "metadata": {
    "execution": {
     "iopub.execute_input": "2024-05-03T19:04:56.374063Z",
     "iopub.status.busy": "2024-05-03T19:04:56.373656Z",
     "iopub.status.idle": "2024-05-03T19:04:57.452215Z",
     "shell.execute_reply": "2024-05-03T19:04:57.451041Z",
     "shell.execute_reply.started": "2024-05-03T19:04:56.374030Z"
    },
    "papermill": {
     "duration": null,
     "end_time": null,
     "exception": null,
     "start_time": null,
     "status": "pending"
    },
    "tags": []
   },
   "outputs": [],
   "source": [
    "!rm /kaggle/working/rgb_01196.png"
   ]
  },
  {
   "cell_type": "code",
   "execution_count": null,
   "id": "1a935713",
   "metadata": {
    "execution": {
     "iopub.execute_input": "2024-05-03T19:08:14.427444Z",
     "iopub.status.busy": "2024-05-03T19:08:14.427079Z",
     "iopub.status.idle": "2024-05-03T19:08:14.434129Z",
     "shell.execute_reply": "2024-05-03T19:08:14.433147Z",
     "shell.execute_reply.started": "2024-05-03T19:08:14.427414Z"
    },
    "papermill": {
     "duration": null,
     "end_time": null,
     "exception": null,
     "start_time": null,
     "status": "pending"
    },
    "tags": []
   },
   "outputs": [],
   "source": [
    "from IPython.display import FileLink\n",
    "FileLink(r'/kaggle/working/glpn.zip')"
   ]
  },
  {
   "cell_type": "code",
   "execution_count": null,
   "id": "52830cd9",
   "metadata": {
    "execution": {
     "iopub.execute_input": "2024-05-03T19:08:10.970747Z",
     "iopub.status.busy": "2024-05-03T19:08:10.970045Z",
     "iopub.status.idle": "2024-05-03T19:08:10.976639Z",
     "shell.execute_reply": "2024-05-03T19:08:10.975758Z",
     "shell.execute_reply.started": "2024-05-03T19:08:10.970713Z"
    },
    "papermill": {
     "duration": null,
     "end_time": null,
     "exception": null,
     "start_time": null,
     "status": "pending"
    },
    "tags": []
   },
   "outputs": [],
   "source": [
    "import os\n",
    "os.path.exists(\"/kaggle/working/glpn.zip\")"
   ]
  },
  {
   "cell_type": "code",
   "execution_count": null,
   "id": "3a319be9",
   "metadata": {
    "execution": {
     "iopub.execute_input": "2024-05-03T19:04:04.309698Z",
     "iopub.status.busy": "2024-05-03T19:04:04.308749Z",
     "iopub.status.idle": "2024-05-03T19:04:15.565931Z",
     "shell.execute_reply": "2024-05-03T19:04:15.564815Z",
     "shell.execute_reply.started": "2024-05-03T19:04:04.309661Z"
    },
    "papermill": {
     "duration": null,
     "end_time": null,
     "exception": null,
     "start_time": null,
     "status": "pending"
    },
    "tags": []
   },
   "outputs": [],
   "source": [
    "!zip -r glpn.zip /kaggle/working/GLPN"
   ]
  },
  {
   "cell_type": "code",
   "execution_count": null,
   "id": "4536f831",
   "metadata": {
    "execution": {
     "iopub.execute_input": "2024-05-03T18:57:11.408599Z",
     "iopub.status.busy": "2024-05-03T18:57:11.407569Z",
     "iopub.status.idle": "2024-05-03T18:57:12.484825Z",
     "shell.execute_reply": "2024-05-03T18:57:12.483585Z",
     "shell.execute_reply.started": "2024-05-03T18:57:11.408558Z"
    },
    "papermill": {
     "duration": null,
     "end_time": null,
     "exception": null,
     "start_time": null,
     "status": "pending"
    },
    "tags": []
   },
   "outputs": [],
   "source": [
    "!ls /kaggle/working"
   ]
  },
  {
   "cell_type": "code",
   "execution_count": null,
   "id": "f42dcb68",
   "metadata": {
    "execution": {
     "iopub.execute_input": "2024-05-03T18:47:55.049689Z",
     "iopub.status.busy": "2024-05-03T18:47:55.048937Z",
     "iopub.status.idle": "2024-05-03T18:47:55.065195Z",
     "shell.execute_reply": "2024-05-03T18:47:55.064214Z",
     "shell.execute_reply.started": "2024-05-03T18:47:55.049659Z"
    },
    "papermill": {
     "duration": null,
     "end_time": null,
     "exception": null,
     "start_time": null,
     "status": "pending"
    },
    "tags": []
   },
   "outputs": [],
   "source": [
    "metrics = [{'rmse': 0.4814945667935402,\n",
    "  'mae': 0.3206941941170881,\n",
    "  'mre': 0.12280936993590187,\n",
    "  'gradient': 0.22522862391157691,\n",
    "  'rank': 3.168125129411955,\n",
    "  'census': 7.754340118501523,\n",
    "  'delta1': 0.8665908412175075,\n",
    "  'delta2': 0.9709242601618244,\n",
    "  'delta3': 0.9909827444094043},\n",
    " {'rmse': 0.5275929915385921,\n",
    "  'mae': 0.3598546702611458,\n",
    "  'mre': 0.1379353528698407,\n",
    "  'gradient': 0.23750153419198558,\n",
    "  'rank': 3.474044611286314,\n",
    "  'census': 8.505195252771408,\n",
    "  'delta1': 0.8301682753567787,\n",
    "  'delta2': 0.9615586723926478,\n",
    "  'delta3': 0.9887387262280197},\n",
    " {'rmse': 0.5377926300181683,\n",
    "  'mae': 0.367930374388544,\n",
    "  'mre': 0.14073925063029225,\n",
    "  'gradient': 0.23871184553152233,\n",
    "  'rank': 3.4880335306367845,\n",
    "  'census': 8.577604002413036,\n",
    "  'delta1': 0.8230637582823643,\n",
    "  'delta2': 0.9587884502819188,\n",
    "  'delta3': 0.9881602896438586},\n",
    " {'rmse': 0.5544007623581283,\n",
    "  'mae': 0.38123224451879717,\n",
    "  'mre': 0.1455959778045903,\n",
    "  'gradient': 0.24045466460292766,\n",
    "  'rank': 3.499783966655515,\n",
    "  'census': 8.657543875629141,\n",
    "  'delta1': 0.8099954357399975,\n",
    "  'delta2': 0.953052131116208,\n",
    "  'delta3': 0.9862977828746178},\n",
    " {'rmse': 0.5719793274779729,\n",
    "  'mae': 0.3950834902006064,\n",
    "  'mre': 0.14992653350460658,\n",
    "  'gradient': 0.24201325792359007,\n",
    "  'rank': 3.5107412169103616,\n",
    "  'census': 8.743372360991659,\n",
    "  'delta1': 0.7954188218734076,\n",
    "  'delta2': 0.9476947898748083,\n",
    "  'delta3': 0.9857629431861622},\n",
    " {'rmse': 0.5917600336299903,\n",
    "  'mae': 0.4107609790642569,\n",
    "  'mre': 0.15522922813345522,\n",
    "  'gradient': 0.24378511090153396,\n",
    "  'rank': 3.520897765553325,\n",
    "  'census': 8.832286933175649,\n",
    "  'delta1': 0.7823839722301861,\n",
    "  'delta2': 0.9435883445623087,\n",
    "  'delta3': 0.9833232839975157},\n",
    " {'rmse': 0.6049998643679008,\n",
    "  'mae': 0.42264275757909187,\n",
    "  'mre': 0.15952416215346368,\n",
    "  'gradient': 0.24530417233800264,\n",
    "  'rank': 3.5302816601363407,\n",
    "  'census': 8.915712960308362,\n",
    "  'delta1': 0.770624780995158,\n",
    "  'delta2': 0.938203563009684,\n",
    "  'delta3': 0.9820106087936422},\n",
    " {'rmse': 0.6281002518102758,\n",
    "  'mae': 0.44030902300648966,\n",
    "  'mre': 0.1656248971810764,\n",
    "  'gradient': 0.2470700483328357,\n",
    "  'rank': 3.5396002862990583,\n",
    "  'census': 8.995570736573008,\n",
    "  'delta1': 0.7571966086104741,\n",
    "  'delta2': 0.929031361493374,\n",
    "  'delta3': 0.9784937245158001},\n",
    " {'rmse': 0.6451089990249491,\n",
    "  'mae': 0.45517374847520997,\n",
    "  'mre': 0.17064408669777964,\n",
    "  'gradient': 0.24900534846005584,\n",
    "  'rank': 3.5495331563376014,\n",
    "  'census': 9.068534384755665,\n",
    "  'delta1': 0.742680748678007,\n",
    "  'delta2': 0.9222271348990191,\n",
    "  'delta3': 0.9760562802624868},\n",
    " {'rmse': 0.6628112682641608,\n",
    "  'mae': 0.4711292466329874,\n",
    "  'mre': 0.1770529132953842,\n",
    "  'gradient': 0.2501698531528833,\n",
    "  'rank': 3.556274593248279,\n",
    "  'census': 9.140041824947438,\n",
    "  'delta1': 0.7283142201834861,\n",
    "  'delta2': 0.9141798119345693,\n",
    "  'delta3': 0.9737691579462916},\n",
    " {'rmse': 0.6797625624358083,\n",
    "  'mae': 0.4842705799145558,\n",
    "  'mre': 0.18058565123244044,\n",
    "  'gradient': 0.2517166397587941,\n",
    "  'rank': 3.5677298157173802,\n",
    "  'census': 9.223527630447249,\n",
    "  'delta1': 0.7175993286506119,\n",
    "  'delta2': 0.9107334223289372,\n",
    "  'delta3': 0.9710204032874621}]"
   ]
  },
  {
   "cell_type": "code",
   "execution_count": null,
   "id": "78a34a22",
   "metadata": {
    "papermill": {
     "duration": null,
     "end_time": null,
     "exception": null,
     "start_time": null,
     "status": "pending"
    },
    "tags": []
   },
   "outputs": [],
   "source": []
  },
  {
   "cell_type": "code",
   "execution_count": null,
   "id": "04e2a65b",
   "metadata": {
    "papermill": {
     "duration": null,
     "end_time": null,
     "exception": null,
     "start_time": null,
     "status": "pending"
    },
    "tags": []
   },
   "outputs": [],
   "source": []
  },
  {
   "cell_type": "code",
   "execution_count": null,
   "id": "bcff7fbc",
   "metadata": {
    "execution": {
     "iopub.execute_input": "2024-05-03T13:48:34.225457Z",
     "iopub.status.busy": "2024-05-03T13:48:34.225075Z",
     "iopub.status.idle": "2024-05-03T13:48:35.276343Z",
     "shell.execute_reply": "2024-05-03T13:48:35.275276Z",
     "shell.execute_reply.started": "2024-05-03T13:48:34.225428Z"
    },
    "papermill": {
     "duration": null,
     "end_time": null,
     "exception": null,
     "start_time": null,
     "status": "pending"
    },
    "tags": []
   },
   "outputs": [],
   "source": [
    "!rm -r /kaggle/working"
   ]
  },
  {
   "cell_type": "code",
   "execution_count": null,
   "id": "41b867fa",
   "metadata": {
    "execution": {
     "iopub.execute_input": "2024-05-03T12:00:43.739213Z",
     "iopub.status.busy": "2024-05-03T12:00:43.738327Z",
     "iopub.status.idle": "2024-05-03T12:05:06.965042Z",
     "shell.execute_reply": "2024-05-03T12:05:06.963981Z",
     "shell.execute_reply.started": "2024-05-03T12:00:43.739165Z"
    },
    "papermill": {
     "duration": null,
     "end_time": null,
     "exception": null,
     "start_time": null,
     "status": "pending"
    },
    "tags": []
   },
   "outputs": [],
   "source": [
    "model = model.to(\"cuda\")\n",
    "loader = get_loader(4, 10)\n",
    "metrics = check_acc(loader, model)\n"
   ]
  },
  {
   "cell_type": "code",
   "execution_count": null,
   "id": "ad21a512",
   "metadata": {
    "execution": {
     "iopub.execute_input": "2024-05-03T11:54:38.895304Z",
     "iopub.status.busy": "2024-05-03T11:54:38.894550Z",
     "iopub.status.idle": "2024-05-03T11:54:38.901741Z",
     "shell.execute_reply": "2024-05-03T11:54:38.900857Z",
     "shell.execute_reply.started": "2024-05-03T11:54:38.895267Z"
    },
    "papermill": {
     "duration": null,
     "end_time": null,
     "exception": null,
     "start_time": null,
     "status": "pending"
    },
    "tags": []
   },
   "outputs": [],
   "source": [
    "metrics # dn = 0"
   ]
  },
  {
   "cell_type": "code",
   "execution_count": null,
   "id": "b1bab91b",
   "metadata": {
    "execution": {
     "iopub.execute_input": "2024-05-03T11:49:26.419569Z",
     "iopub.status.busy": "2024-05-03T11:49:26.419157Z",
     "iopub.status.idle": "2024-05-03T11:49:26.426728Z",
     "shell.execute_reply": "2024-05-03T11:49:26.425823Z",
     "shell.execute_reply.started": "2024-05-03T11:49:26.419532Z"
    },
    "papermill": {
     "duration": null,
     "end_time": null,
     "exception": null,
     "start_time": null,
     "status": "pending"
    },
    "tags": []
   },
   "outputs": [],
   "source": [
    "metrics # dn = 2"
   ]
  },
  {
   "cell_type": "code",
   "execution_count": null,
   "id": "c3283355",
   "metadata": {
    "execution": {
     "iopub.execute_input": "2024-05-03T11:59:57.383374Z",
     "iopub.status.busy": "2024-05-03T11:59:57.382989Z",
     "iopub.status.idle": "2024-05-03T11:59:57.390306Z",
     "shell.execute_reply": "2024-05-03T11:59:57.389438Z",
     "shell.execute_reply.started": "2024-05-03T11:59:57.383339Z"
    },
    "papermill": {
     "duration": null,
     "end_time": null,
     "exception": null,
     "start_time": null,
     "status": "pending"
    },
    "tags": []
   },
   "outputs": [],
   "source": [
    "metrics # dn = 5"
   ]
  },
  {
   "cell_type": "code",
   "execution_count": null,
   "id": "c2e15433",
   "metadata": {
    "execution": {
     "iopub.execute_input": "2024-05-03T12:07:30.687277Z",
     "iopub.status.busy": "2024-05-03T12:07:30.686442Z",
     "iopub.status.idle": "2024-05-03T12:07:30.694240Z",
     "shell.execute_reply": "2024-05-03T12:07:30.693187Z",
     "shell.execute_reply.started": "2024-05-03T12:07:30.687237Z"
    },
    "papermill": {
     "duration": null,
     "end_time": null,
     "exception": null,
     "start_time": null,
     "status": "pending"
    },
    "tags": []
   },
   "outputs": [],
   "source": [
    "metrics # dn = 10"
   ]
  },
  {
   "cell_type": "markdown",
   "id": "fdda296c",
   "metadata": {
    "papermill": {
     "duration": null,
     "end_time": null,
     "exception": null,
     "start_time": null,
     "status": "pending"
    },
    "tags": []
   },
   "source": [
    "## Шумы"
   ]
  },
  {
   "cell_type": "code",
   "execution_count": null,
   "id": "f1bb5087",
   "metadata": {
    "execution": {
     "iopub.execute_input": "2024-05-03T17:50:43.580386Z",
     "iopub.status.busy": "2024-05-03T17:50:43.580043Z",
     "iopub.status.idle": "2024-05-03T17:50:43.588371Z",
     "shell.execute_reply": "2024-05-03T17:50:43.587338Z",
     "shell.execute_reply.started": "2024-05-03T17:50:43.580360Z"
    },
    "papermill": {
     "duration": null,
     "end_time": null,
     "exception": null,
     "start_time": null,
     "status": "pending"
    },
    "tags": []
   },
   "outputs": [],
   "source": [
    "import numpy as np\n",
    "from PIL import Image\n",
    "\n",
    "def adu2photons(image, qe=0.69, sensitivity=5.88):\n",
    "    return image / (qe * sensitivity + 1e-7)\n",
    "\n",
    "def add_camera_noise(input_irrad_photons, qe=0.69, sensitivity=5.88,\n",
    "                     dark_noise=2.29, bitdepth=8, baseline=100,\n",
    "                     rs=np.random.RandomState(seed=42)):\n",
    " \n",
    "    # Add shot noise\n",
    "    photons = rs.poisson(input_irrad_photons, size=input_irrad_photons.shape)\n",
    "    \n",
    "    # Convert to electrons\n",
    "    electrons = qe * photons\n",
    "    \n",
    "    # Add dark noise\n",
    "    electrons_out = rs.normal(scale=dark_noise, size=electrons.shape) + electrons\n",
    "    \n",
    "    # Convert to ADU and add baseline\n",
    "    max_adu     = 2**bitdepth - 1\n",
    "    adu         = (electrons_out * sensitivity).astype(int) # Convert to discrete numbers\n",
    "    adu = np.clip(adu, 0, max_adu)\n",
    "    \n",
    "    return adu"
   ]
  },
  {
   "cell_type": "code",
   "execution_count": null,
   "id": "42561f51",
   "metadata": {
    "execution": {
     "iopub.execute_input": "2024-05-03T11:18:59.317951Z",
     "iopub.status.busy": "2024-05-03T11:18:59.317058Z",
     "iopub.status.idle": "2024-05-03T11:18:59.853666Z",
     "shell.execute_reply": "2024-05-03T11:18:59.852690Z",
     "shell.execute_reply.started": "2024-05-03T11:18:59.317917Z"
    },
    "papermill": {
     "duration": null,
     "end_time": null,
     "exception": null,
     "start_time": null,
     "status": "pending"
    },
    "tags": []
   },
   "outputs": [],
   "source": [
    "import matplotlib.pyplot as plt\n",
    "\n",
    "filename = \"/kaggle/input/nyuv2-official-split-dataset/test/official/rgb_00017.png\"\n",
    "image = Image.open(filename)\n",
    "image = np.asarray(image)\n",
    "plt.imshow(image)\n",
    "\n"
   ]
  },
  {
   "cell_type": "code",
   "execution_count": null,
   "id": "dd867be3",
   "metadata": {
    "execution": {
     "iopub.execute_input": "2024-05-03T11:19:41.559648Z",
     "iopub.status.busy": "2024-05-03T11:19:41.559267Z",
     "iopub.status.idle": "2024-05-03T11:19:42.280181Z",
     "shell.execute_reply": "2024-05-03T11:19:42.279327Z",
     "shell.execute_reply.started": "2024-05-03T11:19:41.559617Z"
    },
    "papermill": {
     "duration": null,
     "end_time": null,
     "exception": null,
     "start_time": null,
     "status": "pending"
    },
    "tags": []
   },
   "outputs": [],
   "source": [
    "photons = adu2photons(image)\n",
    "noised = add_camera_noise(photons, dark_noise=5)\n",
    "plt.imshow(noised)"
   ]
  },
  {
   "cell_type": "code",
   "execution_count": null,
   "id": "ae87685c",
   "metadata": {
    "execution": {
     "iopub.execute_input": "2024-05-03T17:50:40.561855Z",
     "iopub.status.busy": "2024-05-03T17:50:40.561484Z",
     "iopub.status.idle": "2024-05-03T17:50:40.567601Z",
     "shell.execute_reply": "2024-05-03T17:50:40.566649Z",
     "shell.execute_reply.started": "2024-05-03T17:50:40.561827Z"
    },
    "papermill": {
     "duration": null,
     "end_time": null,
     "exception": null,
     "start_time": null,
     "status": "pending"
    },
    "tags": []
   },
   "outputs": [],
   "source": [
    "def make_noise(path_in, path_out, dn):\n",
    "    image = Image.open(path_in)\n",
    "    photons = adu2photons(np.asarray(image))\n",
    "    noised = add_camera_noise(photons, dark_noise=dn)\n",
    "\n",
    "    out_image = Image.fromarray(noised.astype(np.uint8))\n",
    "    out_image.save(path_out)"
   ]
  },
  {
   "cell_type": "code",
   "execution_count": null,
   "id": "8f2a8bcf",
   "metadata": {
    "execution": {
     "iopub.execute_input": "2024-05-03T11:25:16.860638Z",
     "iopub.status.busy": "2024-05-03T11:25:16.859951Z",
     "iopub.status.idle": "2024-05-03T11:25:17.055779Z",
     "shell.execute_reply": "2024-05-03T11:25:17.054762Z",
     "shell.execute_reply.started": "2024-05-03T11:25:16.860607Z"
    },
    "papermill": {
     "duration": null,
     "end_time": null,
     "exception": null,
     "start_time": null,
     "status": "pending"
    },
    "tags": []
   },
   "outputs": [],
   "source": [
    "make_noise(filename, \"/kaggle/working/result.png\", 5)"
   ]
  },
  {
   "cell_type": "code",
   "execution_count": null,
   "id": "580f9fdd",
   "metadata": {
    "papermill": {
     "duration": null,
     "end_time": null,
     "exception": null,
     "start_time": null,
     "status": "pending"
    },
    "tags": []
   },
   "outputs": [],
   "source": []
  },
  {
   "cell_type": "code",
   "execution_count": null,
   "id": "8a3bb7e7",
   "metadata": {
    "papermill": {
     "duration": null,
     "end_time": null,
     "exception": null,
     "start_time": null,
     "status": "pending"
    },
    "tags": []
   },
   "outputs": [],
   "source": []
  },
  {
   "cell_type": "code",
   "execution_count": null,
   "id": "4a26ee27",
   "metadata": {
    "execution": {
     "iopub.execute_input": "2024-05-02T18:18:51.136296Z",
     "iopub.status.busy": "2024-05-02T18:18:51.135925Z",
     "iopub.status.idle": "2024-05-02T18:18:51.157778Z",
     "shell.execute_reply": "2024-05-02T18:18:51.156684Z",
     "shell.execute_reply.started": "2024-05-02T18:18:51.136264Z"
    },
    "papermill": {
     "duration": null,
     "end_time": null,
     "exception": null,
     "start_time": null,
     "status": "pending"
    },
    "tags": []
   },
   "outputs": [],
   "source": [
    "\n",
    "# Константы\n",
    "IMAGE_HEIGHT = 480\n",
    "IMAGE_WIDTH = 640\n",
    "PIN_MEMORY = True\n",
    "NUM_WORKERS = 1\n",
    "NUM_EPOCHS = 20\n",
    "BATCH_SIZE = 4\n",
    "LEARNING_RATE = 7e-5\n",
    "TRAIN_CSV, VAL_CSV = \"/kaggle/input/nyu-resized/content/nyu_data/data/nyu2_train.csv\", \"/kaggle/input/nyu-resized/content/nyu_data/data/nyu2_test.csv\"\n",
    "DEVICE='cuda'\n",
    "WEIGHTS_DIR = \"/kaggle/working\"\n",
    "\n",
    "# Функция потерь\n",
    "def loss_fn(predictions, targets):\n",
    "    \n",
    "    targets = targets.reshape((targets.shape[0], targets.shape[2], targets.shape[3]))\n",
    "    \n",
    "    \n",
    "    batch_size = predictions.size()[0]\n",
    "    H, W = predictions.size()[1], predictions.size()[2]\n",
    "    \n",
    "    max_depth = torch.max(predictions, dim=1)\n",
    "    max_depth = torch.max(max_depth.values, dim=1)\n",
    "    \n",
    "    reshaped = max_depth.values.reshape((batch_size, 1, 1))\n",
    "    \n",
    "    targets_flattened = torch.flatten(targets, start_dim=1)\n",
    "    t_d = torch.median(targets_flattened, dim=1).values\n",
    "    \n",
    "    diff = torch.abs(targets - t_d.reshape((batch_size, 1, 1))).sum(1).sum(1)\n",
    "    s_d = diff / (H * W)\n",
    "\n",
    "    x_norm, y_norm = (predictions - t_d.reshape((batch_size, 1, 1))) / (s_d.reshape((batch_size, 1, 1)) + 1e-6), (targets - t_d.reshape((batch_size, 1, 1))) / (s_d.reshape((batch_size, 1, 1)) + 1e-6)\n",
    "    diff = torch.abs(x_norm - y_norm).sum(1).sum(1)\n",
    "    result = diff / (H * W)\n",
    "    return result\n",
    "\n",
    "def glpn_loss_fn(pred, targets):\n",
    "    n = 640 * 480\n",
    "    print(pred)\n",
    "    print(targets)\n",
    "    pred_log, targets_log = torch.log(pred), torch.log(targets)\n",
    "    pred_log[pred_log == float(\"Inf\")] = 0\n",
    "    targets_log\n",
    "    d_diff = (torch.log(pred) - torch.log(targets))\n",
    "    #print(d_diff)\n",
    "    return (d_diff ** 2).sum(-1).sum(-1) / n - d_diff.sum(-1).sum(-1) ** 2 / (2 * n ** 2)\n",
    "\n",
    "\n",
    "# Тренировка модели\n",
    "\n",
    "def train_model(model):\n",
    "    model = model.to(DEVICE)\n",
    "    transform = A.Compose(\n",
    "        [\n",
    "            ToTensorV2(),\n",
    "        ],\n",
    "        is_check_shapes=False\n",
    "    )\n",
    "\n",
    "    optimizer = optim.AdamW(model.parameters(), lr=LEARNING_RATE)\n",
    "\n",
    "    train_loader, val_loader = get_loaders(\n",
    "        BATCH_SIZE,\n",
    "        transform,\n",
    "        transform,\n",
    "        NUM_WORKERS,\n",
    "        PIN_MEMORY,\n",
    "    )\n",
    "\n",
    "\n",
    "    \n",
    "    scaler = torch.cuda.amp.GradScaler()\n",
    "    metrics_list = []\n",
    "    loss_list = []\n",
    "    GPU_mem_list = []\n",
    "    checkpoint = {}\n",
    "    max_mae = 1000\n",
    "\n",
    "    for epoch in range(NUM_EPOCHS):\n",
    "        print(f\"Training epoch {epoch}\")\n",
    "\n",
    "        # обучаем, получаем метрику потерь, вычисляем точность (mIou(50%))\n",
    "        loss = train_fn(train_loader, model, optimizer, loss_fn, scaler)\n",
    "        loss_list.append(float(loss))\n",
    "        print(\"Loss value: \", float(loss))\n",
    "        \n",
    "        if (epoch + 1) % 5 == 0:\n",
    "            new_acc = check_acc(val_loader, model, device=DEVICE)\n",
    "            metrics_list.append((epoch+1, new_acc))\n",
    "            print(\"Metrics: \", new_acc)\n",
    "\n",
    "            if new_acc['mae'] < max_mae:\n",
    "                max_mae = new_acc['mae']\n",
    "                # save model\n",
    "                checkpoint = {\n",
    "                    \"state_dict\": model.state_dict(),\n",
    "                    \"optimizer\":optimizer.state_dict(),\n",
    "                }\n",
    "                log_name  = os.path.join(WEIGHTS_DIR, \"yoloX_MSE_loss__checkpoint.pth.tar\")\n",
    "                save_checkpoint(checkpoint, filename=log_name)\n",
    "\n",
    "    return metrics_list, loss_list"
   ]
  },
  {
   "cell_type": "code",
   "execution_count": null,
   "id": "3fa68194",
   "metadata": {
    "papermill": {
     "duration": null,
     "end_time": null,
     "exception": null,
     "start_time": null,
     "status": "pending"
    },
    "tags": []
   },
   "outputs": [],
   "source": []
  },
  {
   "cell_type": "code",
   "execution_count": null,
   "id": "e5002846",
   "metadata": {
    "papermill": {
     "duration": null,
     "end_time": null,
     "exception": null,
     "start_time": null,
     "status": "pending"
    },
    "tags": []
   },
   "outputs": [],
   "source": []
  },
  {
   "cell_type": "code",
   "execution_count": null,
   "id": "251d6dc6",
   "metadata": {
    "papermill": {
     "duration": null,
     "end_time": null,
     "exception": null,
     "start_time": null,
     "status": "pending"
    },
    "tags": []
   },
   "outputs": [],
   "source": []
  },
  {
   "cell_type": "code",
   "execution_count": null,
   "id": "0dfdefb2",
   "metadata": {
    "papermill": {
     "duration": null,
     "end_time": null,
     "exception": null,
     "start_time": null,
     "status": "pending"
    },
    "tags": []
   },
   "outputs": [],
   "source": []
  }
 ],
 "metadata": {
  "kaggle": {
   "accelerator": "gpu",
   "dataSources": [
    {
     "datasetId": 1198025,
     "sourceId": 2002504,
     "sourceType": "datasetVersion"
    },
    {
     "datasetId": 2845498,
     "sourceId": 4906412,
     "sourceType": "datasetVersion"
    }
   ],
   "dockerImageVersionId": 30683,
   "isGpuEnabled": true,
   "isInternetEnabled": true,
   "language": "python",
   "sourceType": "notebook"
  },
  "kernelspec": {
   "display_name": "Python 3",
   "language": "python",
   "name": "python3"
  },
  "language_info": {
   "codemirror_mode": {
    "name": "ipython",
    "version": 3
   },
   "file_extension": ".py",
   "mimetype": "text/x-python",
   "name": "python",
   "nbconvert_exporter": "python",
   "pygments_lexer": "ipython3",
   "version": "3.10.13"
  },
  "papermill": {
   "default_parameters": {},
   "duration": 25.152729,
   "end_time": "2024-05-03T19:09:50.460714",
   "environment_variables": {},
   "exception": true,
   "input_path": "__notebook__.ipynb",
   "output_path": "__notebook__.ipynb",
   "parameters": {},
   "start_time": "2024-05-03T19:09:25.307985",
   "version": "2.5.0"
  }
 },
 "nbformat": 4,
 "nbformat_minor": 5
}
